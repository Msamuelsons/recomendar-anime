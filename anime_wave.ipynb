{
  "nbformat": 4,
  "nbformat_minor": 0,
  "metadata": {
    "colab": {
      "provenance": [],
      "include_colab_link": true
    },
    "kernelspec": {
      "name": "python3",
      "display_name": "Python 3"
    },
    "language_info": {
      "name": "python"
    }
  },
  "cells": [
    {
      "cell_type": "markdown",
      "metadata": {
        "id": "view-in-github",
        "colab_type": "text"
      },
      "source": [
        "<a href=\"https://colab.research.google.com/github/Msamuelsons/recomendar-anime/blob/main/anime_wave.ipynb\" target=\"_parent\"><img src=\"https://colab.research.google.com/assets/colab-badge.svg\" alt=\"Open In Colab\"/></a>"
      ]
    },
    {
      "cell_type": "markdown",
      "source": [
        "# Visão Geral\n",
        "**Este documento descreve a implementação e uso de um modelo de recomendação de animes construído com a biblioteca Surprise. O modelo é projetado para sugerir animes com base nas preferências e histórico de visualização do usuário. O Surprise é uma biblioteca Python amplamente utilizada para sistemas de recomendação e tem uma variedade de algoritmos de filtragem colaborativa implementados para gerar recomendações personalizadas.**\n",
        "\n"
      ],
      "metadata": {
        "id": "qB_803j5z5eh"
      }
    },
    {
      "cell_type": "markdown",
      "source": [
        "dataset utilizado [dataset de anime do kaggle](https://)"
      ],
      "metadata": {
        "id": "f_kQvsFs0mgp"
      }
    },
    {
      "cell_type": "markdown",
      "source": [
        "`Para conhecer mais sobre o surprise acesse: ` [Surprise](https://surpriselib.com/)"
      ],
      "metadata": {
        "id": "N3pfBypB054P"
      }
    },
    {
      "cell_type": "code",
      "source": [
        "# Instalação do biblioteca surprise\n",
        "!pip install scikit-surprise"
      ],
      "metadata": {
        "id": "AwKr8zQX1rXh",
        "colab": {
          "base_uri": "https://localhost:8080/"
        },
        "outputId": "28c9d010-6a9e-4343-d3c5-368fde94b9fe"
      },
      "execution_count": 1,
      "outputs": [
        {
          "output_type": "stream",
          "name": "stdout",
          "text": [
            "Collecting scikit-surprise\n",
            "  Downloading scikit-surprise-1.1.3.tar.gz (771 kB)\n",
            "\u001b[2K     \u001b[90m━━━━━━━━━━━━━━━━━━━━━━━━━━━━━━━━━━━━━━━━\u001b[0m \u001b[32m772.0/772.0 kB\u001b[0m \u001b[31m7.7 MB/s\u001b[0m eta \u001b[36m0:00:00\u001b[0m\n",
            "\u001b[?25h  Preparing metadata (setup.py) ... \u001b[?25l\u001b[?25hdone\n",
            "Requirement already satisfied: joblib>=1.0.0 in /usr/local/lib/python3.10/dist-packages (from scikit-surprise) (1.3.2)\n",
            "Requirement already satisfied: numpy>=1.17.3 in /usr/local/lib/python3.10/dist-packages (from scikit-surprise) (1.23.5)\n",
            "Requirement already satisfied: scipy>=1.3.2 in /usr/local/lib/python3.10/dist-packages (from scikit-surprise) (1.11.3)\n",
            "Building wheels for collected packages: scikit-surprise\n",
            "  Building wheel for scikit-surprise (setup.py) ... \u001b[?25l\u001b[?25hdone\n",
            "  Created wheel for scikit-surprise: filename=scikit_surprise-1.1.3-cp310-cp310-linux_x86_64.whl size=3163355 sha256=fe506342684d239cacddca99245754c14c707cf1b64c1beba9d5a5cf453cf30b\n",
            "  Stored in directory: /root/.cache/pip/wheels/a5/ca/a8/4e28def53797fdc4363ca4af740db15a9c2f1595ebc51fb445\n",
            "Successfully built scikit-surprise\n",
            "Installing collected packages: scikit-surprise\n",
            "Successfully installed scikit-surprise-1.1.3\n"
          ]
        }
      ]
    },
    {
      "cell_type": "code",
      "source": [
        "# importações\n",
        "import numpy as np\n",
        "import pandas as pd\n",
        "import matplotlib.pyplot as plt\n",
        "from surprise import KNNBasic\n",
        "import surprise\n",
        "from surprise import Dataset\n",
        "from surprise import Reader\n",
        "from surprise import SVDpp\n",
        "from surprise.model_selection import train_test_split\n",
        "from surprise import accuracy"
      ],
      "metadata": {
        "id": "etge63dJ05TQ"
      },
      "execution_count": 2,
      "outputs": []
    },
    {
      "cell_type": "markdown",
      "source": [
        "# Carregamento dos dados"
      ],
      "metadata": {
        "id": "aAyvfUpT3XeI"
      }
    },
    {
      "cell_type": "code",
      "source": [
        "try:\n",
        "  dados_rating = pd.read_csv('/content/rating.csv')\n",
        "except FileNotFoundError:\n",
        "  print(\"O arquivo de dataset não foi encontrado.\")\n",
        "except FileExistsError:\n",
        "  print(\"O arquivo de dataset não existe.\")\n"
      ],
      "metadata": {
        "id": "GViDrIAs3ace"
      },
      "execution_count": 3,
      "outputs": []
    },
    {
      "cell_type": "markdown",
      "source": [
        "# Carregamento de Labels"
      ],
      "metadata": {
        "id": "IKjiZ-Pwx2sv"
      }
    },
    {
      "cell_type": "code",
      "source": [
        "\n",
        "try:\n",
        "  dados_anime = pd.read_csv('/content/anime.csv')\n",
        "except FileNotFoundError:\n",
        "  print(\"O arquivo de dataset não foi encontrado.\")\n",
        "except FileExistsError:\n",
        "  print(\"O arquivo de dataset não existe.\")\n"
      ],
      "metadata": {
        "id": "biXssUCUx7uA"
      },
      "execution_count": 4,
      "outputs": []
    },
    {
      "cell_type": "code",
      "source": [
        "anime = dados_anime[['anime_id', 'name']]\n",
        "anime"
      ],
      "metadata": {
        "id": "k--cN6Iqya8c",
        "colab": {
          "base_uri": "https://localhost:8080/",
          "height": 423
        },
        "outputId": "fecacfa4-1824-46d8-9ce3-d1754244c575"
      },
      "execution_count": 5,
      "outputs": [
        {
          "output_type": "execute_result",
          "data": {
            "text/plain": [
              "       anime_id                                               name\n",
              "0         32281                                     Kimi no Na wa.\n",
              "1          5114                   Fullmetal Alchemist: Brotherhood\n",
              "2         28977                                           Gintama°\n",
              "3          9253                                        Steins;Gate\n",
              "4          9969                                      Gintama&#039;\n",
              "...         ...                                                ...\n",
              "12289      9316       Toushindai My Lover: Minami tai Mecha-Minami\n",
              "12290      5543                                        Under World\n",
              "12291      5621                     Violence Gekiga David no Hoshi\n",
              "12292      6133  Violence Gekiga Shin David no Hoshi: Inma Dens...\n",
              "12293     26081                   Yasuji no Pornorama: Yacchimae!!\n",
              "\n",
              "[12294 rows x 2 columns]"
            ],
            "text/html": [
              "\n",
              "  <div id=\"df-bcbd23b2-f217-44fd-9ae3-dd922387e222\" class=\"colab-df-container\">\n",
              "    <div>\n",
              "<style scoped>\n",
              "    .dataframe tbody tr th:only-of-type {\n",
              "        vertical-align: middle;\n",
              "    }\n",
              "\n",
              "    .dataframe tbody tr th {\n",
              "        vertical-align: top;\n",
              "    }\n",
              "\n",
              "    .dataframe thead th {\n",
              "        text-align: right;\n",
              "    }\n",
              "</style>\n",
              "<table border=\"1\" class=\"dataframe\">\n",
              "  <thead>\n",
              "    <tr style=\"text-align: right;\">\n",
              "      <th></th>\n",
              "      <th>anime_id</th>\n",
              "      <th>name</th>\n",
              "    </tr>\n",
              "  </thead>\n",
              "  <tbody>\n",
              "    <tr>\n",
              "      <th>0</th>\n",
              "      <td>32281</td>\n",
              "      <td>Kimi no Na wa.</td>\n",
              "    </tr>\n",
              "    <tr>\n",
              "      <th>1</th>\n",
              "      <td>5114</td>\n",
              "      <td>Fullmetal Alchemist: Brotherhood</td>\n",
              "    </tr>\n",
              "    <tr>\n",
              "      <th>2</th>\n",
              "      <td>28977</td>\n",
              "      <td>Gintama°</td>\n",
              "    </tr>\n",
              "    <tr>\n",
              "      <th>3</th>\n",
              "      <td>9253</td>\n",
              "      <td>Steins;Gate</td>\n",
              "    </tr>\n",
              "    <tr>\n",
              "      <th>4</th>\n",
              "      <td>9969</td>\n",
              "      <td>Gintama&amp;#039;</td>\n",
              "    </tr>\n",
              "    <tr>\n",
              "      <th>...</th>\n",
              "      <td>...</td>\n",
              "      <td>...</td>\n",
              "    </tr>\n",
              "    <tr>\n",
              "      <th>12289</th>\n",
              "      <td>9316</td>\n",
              "      <td>Toushindai My Lover: Minami tai Mecha-Minami</td>\n",
              "    </tr>\n",
              "    <tr>\n",
              "      <th>12290</th>\n",
              "      <td>5543</td>\n",
              "      <td>Under World</td>\n",
              "    </tr>\n",
              "    <tr>\n",
              "      <th>12291</th>\n",
              "      <td>5621</td>\n",
              "      <td>Violence Gekiga David no Hoshi</td>\n",
              "    </tr>\n",
              "    <tr>\n",
              "      <th>12292</th>\n",
              "      <td>6133</td>\n",
              "      <td>Violence Gekiga Shin David no Hoshi: Inma Dens...</td>\n",
              "    </tr>\n",
              "    <tr>\n",
              "      <th>12293</th>\n",
              "      <td>26081</td>\n",
              "      <td>Yasuji no Pornorama: Yacchimae!!</td>\n",
              "    </tr>\n",
              "  </tbody>\n",
              "</table>\n",
              "<p>12294 rows × 2 columns</p>\n",
              "</div>\n",
              "    <div class=\"colab-df-buttons\">\n",
              "\n",
              "  <div class=\"colab-df-container\">\n",
              "    <button class=\"colab-df-convert\" onclick=\"convertToInteractive('df-bcbd23b2-f217-44fd-9ae3-dd922387e222')\"\n",
              "            title=\"Convert this dataframe to an interactive table.\"\n",
              "            style=\"display:none;\">\n",
              "\n",
              "  <svg xmlns=\"http://www.w3.org/2000/svg\" height=\"24px\" viewBox=\"0 -960 960 960\">\n",
              "    <path d=\"M120-120v-720h720v720H120Zm60-500h600v-160H180v160Zm220 220h160v-160H400v160Zm0 220h160v-160H400v160ZM180-400h160v-160H180v160Zm440 0h160v-160H620v160ZM180-180h160v-160H180v160Zm440 0h160v-160H620v160Z\"/>\n",
              "  </svg>\n",
              "    </button>\n",
              "\n",
              "  <style>\n",
              "    .colab-df-container {\n",
              "      display:flex;\n",
              "      gap: 12px;\n",
              "    }\n",
              "\n",
              "    .colab-df-convert {\n",
              "      background-color: #E8F0FE;\n",
              "      border: none;\n",
              "      border-radius: 50%;\n",
              "      cursor: pointer;\n",
              "      display: none;\n",
              "      fill: #1967D2;\n",
              "      height: 32px;\n",
              "      padding: 0 0 0 0;\n",
              "      width: 32px;\n",
              "    }\n",
              "\n",
              "    .colab-df-convert:hover {\n",
              "      background-color: #E2EBFA;\n",
              "      box-shadow: 0px 1px 2px rgba(60, 64, 67, 0.3), 0px 1px 3px 1px rgba(60, 64, 67, 0.15);\n",
              "      fill: #174EA6;\n",
              "    }\n",
              "\n",
              "    .colab-df-buttons div {\n",
              "      margin-bottom: 4px;\n",
              "    }\n",
              "\n",
              "    [theme=dark] .colab-df-convert {\n",
              "      background-color: #3B4455;\n",
              "      fill: #D2E3FC;\n",
              "    }\n",
              "\n",
              "    [theme=dark] .colab-df-convert:hover {\n",
              "      background-color: #434B5C;\n",
              "      box-shadow: 0px 1px 3px 1px rgba(0, 0, 0, 0.15);\n",
              "      filter: drop-shadow(0px 1px 2px rgba(0, 0, 0, 0.3));\n",
              "      fill: #FFFFFF;\n",
              "    }\n",
              "  </style>\n",
              "\n",
              "    <script>\n",
              "      const buttonEl =\n",
              "        document.querySelector('#df-bcbd23b2-f217-44fd-9ae3-dd922387e222 button.colab-df-convert');\n",
              "      buttonEl.style.display =\n",
              "        google.colab.kernel.accessAllowed ? 'block' : 'none';\n",
              "\n",
              "      async function convertToInteractive(key) {\n",
              "        const element = document.querySelector('#df-bcbd23b2-f217-44fd-9ae3-dd922387e222');\n",
              "        const dataTable =\n",
              "          await google.colab.kernel.invokeFunction('convertToInteractive',\n",
              "                                                    [key], {});\n",
              "        if (!dataTable) return;\n",
              "\n",
              "        const docLinkHtml = 'Like what you see? Visit the ' +\n",
              "          '<a target=\"_blank\" href=https://colab.research.google.com/notebooks/data_table.ipynb>data table notebook</a>'\n",
              "          + ' to learn more about interactive tables.';\n",
              "        element.innerHTML = '';\n",
              "        dataTable['output_type'] = 'display_data';\n",
              "        await google.colab.output.renderOutput(dataTable, element);\n",
              "        const docLink = document.createElement('div');\n",
              "        docLink.innerHTML = docLinkHtml;\n",
              "        element.appendChild(docLink);\n",
              "      }\n",
              "    </script>\n",
              "  </div>\n",
              "\n",
              "\n",
              "<div id=\"df-3b93236b-5b04-4b57-9961-2e792e8b4d9a\">\n",
              "  <button class=\"colab-df-quickchart\" onclick=\"quickchart('df-3b93236b-5b04-4b57-9961-2e792e8b4d9a')\"\n",
              "            title=\"Suggest charts.\"\n",
              "            style=\"display:none;\">\n",
              "\n",
              "<svg xmlns=\"http://www.w3.org/2000/svg\" height=\"24px\"viewBox=\"0 0 24 24\"\n",
              "     width=\"24px\">\n",
              "    <g>\n",
              "        <path d=\"M19 3H5c-1.1 0-2 .9-2 2v14c0 1.1.9 2 2 2h14c1.1 0 2-.9 2-2V5c0-1.1-.9-2-2-2zM9 17H7v-7h2v7zm4 0h-2V7h2v10zm4 0h-2v-4h2v4z\"/>\n",
              "    </g>\n",
              "</svg>\n",
              "  </button>\n",
              "\n",
              "<style>\n",
              "  .colab-df-quickchart {\n",
              "      --bg-color: #E8F0FE;\n",
              "      --fill-color: #1967D2;\n",
              "      --hover-bg-color: #E2EBFA;\n",
              "      --hover-fill-color: #174EA6;\n",
              "      --disabled-fill-color: #AAA;\n",
              "      --disabled-bg-color: #DDD;\n",
              "  }\n",
              "\n",
              "  [theme=dark] .colab-df-quickchart {\n",
              "      --bg-color: #3B4455;\n",
              "      --fill-color: #D2E3FC;\n",
              "      --hover-bg-color: #434B5C;\n",
              "      --hover-fill-color: #FFFFFF;\n",
              "      --disabled-bg-color: #3B4455;\n",
              "      --disabled-fill-color: #666;\n",
              "  }\n",
              "\n",
              "  .colab-df-quickchart {\n",
              "    background-color: var(--bg-color);\n",
              "    border: none;\n",
              "    border-radius: 50%;\n",
              "    cursor: pointer;\n",
              "    display: none;\n",
              "    fill: var(--fill-color);\n",
              "    height: 32px;\n",
              "    padding: 0;\n",
              "    width: 32px;\n",
              "  }\n",
              "\n",
              "  .colab-df-quickchart:hover {\n",
              "    background-color: var(--hover-bg-color);\n",
              "    box-shadow: 0 1px 2px rgba(60, 64, 67, 0.3), 0 1px 3px 1px rgba(60, 64, 67, 0.15);\n",
              "    fill: var(--button-hover-fill-color);\n",
              "  }\n",
              "\n",
              "  .colab-df-quickchart-complete:disabled,\n",
              "  .colab-df-quickchart-complete:disabled:hover {\n",
              "    background-color: var(--disabled-bg-color);\n",
              "    fill: var(--disabled-fill-color);\n",
              "    box-shadow: none;\n",
              "  }\n",
              "\n",
              "  .colab-df-spinner {\n",
              "    border: 2px solid var(--fill-color);\n",
              "    border-color: transparent;\n",
              "    border-bottom-color: var(--fill-color);\n",
              "    animation:\n",
              "      spin 1s steps(1) infinite;\n",
              "  }\n",
              "\n",
              "  @keyframes spin {\n",
              "    0% {\n",
              "      border-color: transparent;\n",
              "      border-bottom-color: var(--fill-color);\n",
              "      border-left-color: var(--fill-color);\n",
              "    }\n",
              "    20% {\n",
              "      border-color: transparent;\n",
              "      border-left-color: var(--fill-color);\n",
              "      border-top-color: var(--fill-color);\n",
              "    }\n",
              "    30% {\n",
              "      border-color: transparent;\n",
              "      border-left-color: var(--fill-color);\n",
              "      border-top-color: var(--fill-color);\n",
              "      border-right-color: var(--fill-color);\n",
              "    }\n",
              "    40% {\n",
              "      border-color: transparent;\n",
              "      border-right-color: var(--fill-color);\n",
              "      border-top-color: var(--fill-color);\n",
              "    }\n",
              "    60% {\n",
              "      border-color: transparent;\n",
              "      border-right-color: var(--fill-color);\n",
              "    }\n",
              "    80% {\n",
              "      border-color: transparent;\n",
              "      border-right-color: var(--fill-color);\n",
              "      border-bottom-color: var(--fill-color);\n",
              "    }\n",
              "    90% {\n",
              "      border-color: transparent;\n",
              "      border-bottom-color: var(--fill-color);\n",
              "    }\n",
              "  }\n",
              "</style>\n",
              "\n",
              "  <script>\n",
              "    async function quickchart(key) {\n",
              "      const quickchartButtonEl =\n",
              "        document.querySelector('#' + key + ' button');\n",
              "      quickchartButtonEl.disabled = true;  // To prevent multiple clicks.\n",
              "      quickchartButtonEl.classList.add('colab-df-spinner');\n",
              "      try {\n",
              "        const charts = await google.colab.kernel.invokeFunction(\n",
              "            'suggestCharts', [key], {});\n",
              "      } catch (error) {\n",
              "        console.error('Error during call to suggestCharts:', error);\n",
              "      }\n",
              "      quickchartButtonEl.classList.remove('colab-df-spinner');\n",
              "      quickchartButtonEl.classList.add('colab-df-quickchart-complete');\n",
              "    }\n",
              "    (() => {\n",
              "      let quickchartButtonEl =\n",
              "        document.querySelector('#df-3b93236b-5b04-4b57-9961-2e792e8b4d9a button');\n",
              "      quickchartButtonEl.style.display =\n",
              "        google.colab.kernel.accessAllowed ? 'block' : 'none';\n",
              "    })();\n",
              "  </script>\n",
              "</div>\n",
              "    </div>\n",
              "  </div>\n"
            ]
          },
          "metadata": {},
          "execution_count": 5
        }
      ]
    },
    {
      "cell_type": "markdown",
      "source": [
        "# Análise exploratória"
      ],
      "metadata": {
        "id": "9AKdkx4X3PUr"
      }
    },
    {
      "cell_type": "code",
      "source": [
        "dados_rating.head(3)"
      ],
      "metadata": {
        "id": "hL6cYpTIGNQq",
        "colab": {
          "base_uri": "https://localhost:8080/",
          "height": 143
        },
        "outputId": "b69c9f33-51e3-47ed-ec05-794f7b407b10"
      },
      "execution_count": 6,
      "outputs": [
        {
          "output_type": "execute_result",
          "data": {
            "text/plain": [
              "   user_id  anime_id  rating\n",
              "0        1        20      -1\n",
              "1        1        24      -1\n",
              "2        1        79      -1"
            ],
            "text/html": [
              "\n",
              "  <div id=\"df-598df892-f10f-45b8-b61b-abd57cfe4697\" class=\"colab-df-container\">\n",
              "    <div>\n",
              "<style scoped>\n",
              "    .dataframe tbody tr th:only-of-type {\n",
              "        vertical-align: middle;\n",
              "    }\n",
              "\n",
              "    .dataframe tbody tr th {\n",
              "        vertical-align: top;\n",
              "    }\n",
              "\n",
              "    .dataframe thead th {\n",
              "        text-align: right;\n",
              "    }\n",
              "</style>\n",
              "<table border=\"1\" class=\"dataframe\">\n",
              "  <thead>\n",
              "    <tr style=\"text-align: right;\">\n",
              "      <th></th>\n",
              "      <th>user_id</th>\n",
              "      <th>anime_id</th>\n",
              "      <th>rating</th>\n",
              "    </tr>\n",
              "  </thead>\n",
              "  <tbody>\n",
              "    <tr>\n",
              "      <th>0</th>\n",
              "      <td>1</td>\n",
              "      <td>20</td>\n",
              "      <td>-1</td>\n",
              "    </tr>\n",
              "    <tr>\n",
              "      <th>1</th>\n",
              "      <td>1</td>\n",
              "      <td>24</td>\n",
              "      <td>-1</td>\n",
              "    </tr>\n",
              "    <tr>\n",
              "      <th>2</th>\n",
              "      <td>1</td>\n",
              "      <td>79</td>\n",
              "      <td>-1</td>\n",
              "    </tr>\n",
              "  </tbody>\n",
              "</table>\n",
              "</div>\n",
              "    <div class=\"colab-df-buttons\">\n",
              "\n",
              "  <div class=\"colab-df-container\">\n",
              "    <button class=\"colab-df-convert\" onclick=\"convertToInteractive('df-598df892-f10f-45b8-b61b-abd57cfe4697')\"\n",
              "            title=\"Convert this dataframe to an interactive table.\"\n",
              "            style=\"display:none;\">\n",
              "\n",
              "  <svg xmlns=\"http://www.w3.org/2000/svg\" height=\"24px\" viewBox=\"0 -960 960 960\">\n",
              "    <path d=\"M120-120v-720h720v720H120Zm60-500h600v-160H180v160Zm220 220h160v-160H400v160Zm0 220h160v-160H400v160ZM180-400h160v-160H180v160Zm440 0h160v-160H620v160ZM180-180h160v-160H180v160Zm440 0h160v-160H620v160Z\"/>\n",
              "  </svg>\n",
              "    </button>\n",
              "\n",
              "  <style>\n",
              "    .colab-df-container {\n",
              "      display:flex;\n",
              "      gap: 12px;\n",
              "    }\n",
              "\n",
              "    .colab-df-convert {\n",
              "      background-color: #E8F0FE;\n",
              "      border: none;\n",
              "      border-radius: 50%;\n",
              "      cursor: pointer;\n",
              "      display: none;\n",
              "      fill: #1967D2;\n",
              "      height: 32px;\n",
              "      padding: 0 0 0 0;\n",
              "      width: 32px;\n",
              "    }\n",
              "\n",
              "    .colab-df-convert:hover {\n",
              "      background-color: #E2EBFA;\n",
              "      box-shadow: 0px 1px 2px rgba(60, 64, 67, 0.3), 0px 1px 3px 1px rgba(60, 64, 67, 0.15);\n",
              "      fill: #174EA6;\n",
              "    }\n",
              "\n",
              "    .colab-df-buttons div {\n",
              "      margin-bottom: 4px;\n",
              "    }\n",
              "\n",
              "    [theme=dark] .colab-df-convert {\n",
              "      background-color: #3B4455;\n",
              "      fill: #D2E3FC;\n",
              "    }\n",
              "\n",
              "    [theme=dark] .colab-df-convert:hover {\n",
              "      background-color: #434B5C;\n",
              "      box-shadow: 0px 1px 3px 1px rgba(0, 0, 0, 0.15);\n",
              "      filter: drop-shadow(0px 1px 2px rgba(0, 0, 0, 0.3));\n",
              "      fill: #FFFFFF;\n",
              "    }\n",
              "  </style>\n",
              "\n",
              "    <script>\n",
              "      const buttonEl =\n",
              "        document.querySelector('#df-598df892-f10f-45b8-b61b-abd57cfe4697 button.colab-df-convert');\n",
              "      buttonEl.style.display =\n",
              "        google.colab.kernel.accessAllowed ? 'block' : 'none';\n",
              "\n",
              "      async function convertToInteractive(key) {\n",
              "        const element = document.querySelector('#df-598df892-f10f-45b8-b61b-abd57cfe4697');\n",
              "        const dataTable =\n",
              "          await google.colab.kernel.invokeFunction('convertToInteractive',\n",
              "                                                    [key], {});\n",
              "        if (!dataTable) return;\n",
              "\n",
              "        const docLinkHtml = 'Like what you see? Visit the ' +\n",
              "          '<a target=\"_blank\" href=https://colab.research.google.com/notebooks/data_table.ipynb>data table notebook</a>'\n",
              "          + ' to learn more about interactive tables.';\n",
              "        element.innerHTML = '';\n",
              "        dataTable['output_type'] = 'display_data';\n",
              "        await google.colab.output.renderOutput(dataTable, element);\n",
              "        const docLink = document.createElement('div');\n",
              "        docLink.innerHTML = docLinkHtml;\n",
              "        element.appendChild(docLink);\n",
              "      }\n",
              "    </script>\n",
              "  </div>\n",
              "\n",
              "\n",
              "<div id=\"df-7b5bca5c-c9db-4282-9ae4-e3b560112fae\">\n",
              "  <button class=\"colab-df-quickchart\" onclick=\"quickchart('df-7b5bca5c-c9db-4282-9ae4-e3b560112fae')\"\n",
              "            title=\"Suggest charts.\"\n",
              "            style=\"display:none;\">\n",
              "\n",
              "<svg xmlns=\"http://www.w3.org/2000/svg\" height=\"24px\"viewBox=\"0 0 24 24\"\n",
              "     width=\"24px\">\n",
              "    <g>\n",
              "        <path d=\"M19 3H5c-1.1 0-2 .9-2 2v14c0 1.1.9 2 2 2h14c1.1 0 2-.9 2-2V5c0-1.1-.9-2-2-2zM9 17H7v-7h2v7zm4 0h-2V7h2v10zm4 0h-2v-4h2v4z\"/>\n",
              "    </g>\n",
              "</svg>\n",
              "  </button>\n",
              "\n",
              "<style>\n",
              "  .colab-df-quickchart {\n",
              "      --bg-color: #E8F0FE;\n",
              "      --fill-color: #1967D2;\n",
              "      --hover-bg-color: #E2EBFA;\n",
              "      --hover-fill-color: #174EA6;\n",
              "      --disabled-fill-color: #AAA;\n",
              "      --disabled-bg-color: #DDD;\n",
              "  }\n",
              "\n",
              "  [theme=dark] .colab-df-quickchart {\n",
              "      --bg-color: #3B4455;\n",
              "      --fill-color: #D2E3FC;\n",
              "      --hover-bg-color: #434B5C;\n",
              "      --hover-fill-color: #FFFFFF;\n",
              "      --disabled-bg-color: #3B4455;\n",
              "      --disabled-fill-color: #666;\n",
              "  }\n",
              "\n",
              "  .colab-df-quickchart {\n",
              "    background-color: var(--bg-color);\n",
              "    border: none;\n",
              "    border-radius: 50%;\n",
              "    cursor: pointer;\n",
              "    display: none;\n",
              "    fill: var(--fill-color);\n",
              "    height: 32px;\n",
              "    padding: 0;\n",
              "    width: 32px;\n",
              "  }\n",
              "\n",
              "  .colab-df-quickchart:hover {\n",
              "    background-color: var(--hover-bg-color);\n",
              "    box-shadow: 0 1px 2px rgba(60, 64, 67, 0.3), 0 1px 3px 1px rgba(60, 64, 67, 0.15);\n",
              "    fill: var(--button-hover-fill-color);\n",
              "  }\n",
              "\n",
              "  .colab-df-quickchart-complete:disabled,\n",
              "  .colab-df-quickchart-complete:disabled:hover {\n",
              "    background-color: var(--disabled-bg-color);\n",
              "    fill: var(--disabled-fill-color);\n",
              "    box-shadow: none;\n",
              "  }\n",
              "\n",
              "  .colab-df-spinner {\n",
              "    border: 2px solid var(--fill-color);\n",
              "    border-color: transparent;\n",
              "    border-bottom-color: var(--fill-color);\n",
              "    animation:\n",
              "      spin 1s steps(1) infinite;\n",
              "  }\n",
              "\n",
              "  @keyframes spin {\n",
              "    0% {\n",
              "      border-color: transparent;\n",
              "      border-bottom-color: var(--fill-color);\n",
              "      border-left-color: var(--fill-color);\n",
              "    }\n",
              "    20% {\n",
              "      border-color: transparent;\n",
              "      border-left-color: var(--fill-color);\n",
              "      border-top-color: var(--fill-color);\n",
              "    }\n",
              "    30% {\n",
              "      border-color: transparent;\n",
              "      border-left-color: var(--fill-color);\n",
              "      border-top-color: var(--fill-color);\n",
              "      border-right-color: var(--fill-color);\n",
              "    }\n",
              "    40% {\n",
              "      border-color: transparent;\n",
              "      border-right-color: var(--fill-color);\n",
              "      border-top-color: var(--fill-color);\n",
              "    }\n",
              "    60% {\n",
              "      border-color: transparent;\n",
              "      border-right-color: var(--fill-color);\n",
              "    }\n",
              "    80% {\n",
              "      border-color: transparent;\n",
              "      border-right-color: var(--fill-color);\n",
              "      border-bottom-color: var(--fill-color);\n",
              "    }\n",
              "    90% {\n",
              "      border-color: transparent;\n",
              "      border-bottom-color: var(--fill-color);\n",
              "    }\n",
              "  }\n",
              "</style>\n",
              "\n",
              "  <script>\n",
              "    async function quickchart(key) {\n",
              "      const quickchartButtonEl =\n",
              "        document.querySelector('#' + key + ' button');\n",
              "      quickchartButtonEl.disabled = true;  // To prevent multiple clicks.\n",
              "      quickchartButtonEl.classList.add('colab-df-spinner');\n",
              "      try {\n",
              "        const charts = await google.colab.kernel.invokeFunction(\n",
              "            'suggestCharts', [key], {});\n",
              "      } catch (error) {\n",
              "        console.error('Error during call to suggestCharts:', error);\n",
              "      }\n",
              "      quickchartButtonEl.classList.remove('colab-df-spinner');\n",
              "      quickchartButtonEl.classList.add('colab-df-quickchart-complete');\n",
              "    }\n",
              "    (() => {\n",
              "      let quickchartButtonEl =\n",
              "        document.querySelector('#df-7b5bca5c-c9db-4282-9ae4-e3b560112fae button');\n",
              "      quickchartButtonEl.style.display =\n",
              "        google.colab.kernel.accessAllowed ? 'block' : 'none';\n",
              "    })();\n",
              "  </script>\n",
              "</div>\n",
              "    </div>\n",
              "  </div>\n"
            ]
          },
          "metadata": {},
          "execution_count": 6
        }
      ]
    },
    {
      "cell_type": "code",
      "execution_count": 7,
      "metadata": {
        "id": "sOVx61eYzu_m",
        "colab": {
          "base_uri": "https://localhost:8080/"
        },
        "outputId": "c685e5b1-e057-4331-bb2a-e8c67f479908"
      },
      "outputs": [
        {
          "output_type": "stream",
          "name": "stdout",
          "text": [
            "Os dados possuem 1321504 linhas e 3 colunas\n"
          ]
        }
      ],
      "source": [
        "# Quantidade de dados\n",
        "print(f'Os dados possuem {dados_rating.shape[0]} linhas e {dados_rating.shape[1]} colunas')"
      ]
    },
    {
      "cell_type": "code",
      "source": [
        "dados_rating['rating'].describe()"
      ],
      "metadata": {
        "id": "BQwpZ0n_5Fv8",
        "colab": {
          "base_uri": "https://localhost:8080/"
        },
        "outputId": "cd900170-79b1-4f0b-933d-5ce55b9aea6e"
      },
      "execution_count": 8,
      "outputs": [
        {
          "output_type": "execute_result",
          "data": {
            "text/plain": [
              "count    1.321504e+06\n",
              "mean     6.151940e+00\n",
              "std      3.696508e+00\n",
              "min     -1.000000e+00\n",
              "25%      6.000000e+00\n",
              "50%      7.000000e+00\n",
              "75%      9.000000e+00\n",
              "max      1.000000e+01\n",
              "Name: rating, dtype: float64"
            ]
          },
          "metadata": {},
          "execution_count": 8
        }
      ]
    },
    {
      "cell_type": "code",
      "source": [
        "# Separando o menor avaliado e o maior\n",
        "menor_avaliado = dados_rating['rating'].min()\n",
        "maior_avaliado = dados_rating['rating'].max()\n",
        "print(f'Variação de rating: {menor_avaliado} a {maior_avaliado}')"
      ],
      "metadata": {
        "id": "VKHNqJxO5Qab",
        "colab": {
          "base_uri": "https://localhost:8080/"
        },
        "outputId": "5cf05845-ca04-40ff-cf85-b7d4a5961d43"
      },
      "execution_count": 9,
      "outputs": [
        {
          "output_type": "stream",
          "name": "stdout",
          "text": [
            "Variação de rating: -1 a 10\n"
          ]
        }
      ]
    },
    {
      "cell_type": "markdown",
      "source": [
        "## Avaliações x pessoas\n",
        "Esse `value_counts()` retorna o número de avaliações em relação a sua nota"
      ],
      "metadata": {
        "id": "FBetjpNh6p1T"
      }
    },
    {
      "cell_type": "code",
      "source": [
        "dados_rating['rating'].value_counts()"
      ],
      "metadata": {
        "id": "b4vnxEbR6fhf",
        "colab": {
          "base_uri": "https://localhost:8080/"
        },
        "outputId": "a2fca1f2-4662-48df-d946-328567434676"
      },
      "execution_count": 10,
      "outputs": [
        {
          "output_type": "execute_result",
          "data": {
            "text/plain": [
              " 8     278978\n",
              "-1     244754\n",
              " 7     235643\n",
              " 9     211614\n",
              " 10    156733\n",
              " 6     110663\n",
              " 5      49409\n",
              " 4      18810\n",
              " 3       7927\n",
              " 2       4369\n",
              " 1       2604\n",
              "Name: rating, dtype: int64"
            ]
          },
          "metadata": {},
          "execution_count": 10
        }
      ]
    },
    {
      "cell_type": "code",
      "source": [
        "# histograma com intervalos uniformes\n",
        "dados_rating['rating'].plot(kind='hist', bins=100, edgecolor='k')\n",
        "plt.ylabel('Total de Avaliações')\n",
        "plt.title('Notas das avaliações')\n",
        "\n",
        "plt.show()"
      ],
      "metadata": {
        "id": "nwhEQyF-7LWB",
        "colab": {
          "base_uri": "https://localhost:8080/",
          "height": 452
        },
        "outputId": "39ea6c55-9f56-446c-84e3-fe65a8b043ed"
      },
      "execution_count": 11,
      "outputs": [
        {
          "output_type": "display_data",
          "data": {
            "text/plain": [
              "<Figure size 640x480 with 1 Axes>"
            ],
            "image/png": "[encoded data removed]"
          },
          "metadata": {}
        }
      ]
    },
    {
      "cell_type": "code",
      "source": [
        "# Descobrindo a média das notas dadas\n",
        "media = dados_rating['rating'].mean()\n",
        "print(f'Média dos dados de avaliações: {media}')"
      ],
      "metadata": {
        "id": "MfnsOBZ57O6v",
        "colab": {
          "base_uri": "https://localhost:8080/"
        },
        "outputId": "5efc478c-6ee0-49e2-8ea8-4d1ab3e59733"
      },
      "execution_count": 12,
      "outputs": [
        {
          "output_type": "stream",
          "name": "stdout",
          "text": [
            "Média dos dados de avaliações: 6.151939759546698\n"
          ]
        }
      ]
    },
    {
      "cell_type": "code",
      "source": [
        "# Moda das notas\n",
        "moda = dados_rating['rating'].mode()\n",
        "print(f'Moda dos dados de avaliações: {float(moda)}')\n"
      ],
      "metadata": {
        "id": "79fK0psc8DN8",
        "colab": {
          "base_uri": "https://localhost:8080/"
        },
        "outputId": "c3339cee-5309-4bef-830d-0866bc1bb532"
      },
      "execution_count": 13,
      "outputs": [
        {
          "output_type": "stream",
          "name": "stdout",
          "text": [
            "Moda dos dados de avaliações: 8.0\n"
          ]
        }
      ]
    },
    {
      "cell_type": "code",
      "source": [
        "# Mediana\n",
        "mediana = dados_rating['rating'].median()\n",
        "print(f'Mediana dos dados de avaliações: {mediana}')\n"
      ],
      "metadata": {
        "id": "9OWDqk5d8KIO",
        "colab": {
          "base_uri": "https://localhost:8080/"
        },
        "outputId": "8648b628-54fe-4144-a2fc-db94ebdc6f26"
      },
      "execution_count": 14,
      "outputs": [
        {
          "output_type": "stream",
          "name": "stdout",
          "text": [
            "Mediana dos dados de avaliações: 7.0\n"
          ]
        }
      ]
    },
    {
      "cell_type": "code",
      "source": [
        "# Valores e suas quantidades\n",
        "quantidade_de_animes = len(dados_rating['anime_id'].unique())\n",
        "quantidade_de_usuarios = len(dados_rating['user_id'].unique())\n",
        "quantidade_de_amostras = dados_rating.shape[0]\n",
        "\n",
        "print(f'Total de animes: {quantidade_de_animes}')\n",
        "print(f'Total de usuários: {quantidade_de_usuarios}')\n",
        "print(f'Total de amostras: {quantidade_de_amostras}')"
      ],
      "metadata": {
        "id": "a8BIwjy69TE0",
        "colab": {
          "base_uri": "https://localhost:8080/"
        },
        "outputId": "de0fd7bb-6adf-4700-8dfc-2f33e229ff88"
      },
      "execution_count": 15,
      "outputs": [
        {
          "output_type": "stream",
          "name": "stdout",
          "text": [
            "Total de animes: 9018\n",
            "Total de usuários: 12521\n",
            "Total de amostras: 1321504\n"
          ]
        }
      ]
    },
    {
      "cell_type": "markdown",
      "source": [
        "## Verificando valores faltantes"
      ],
      "metadata": {
        "id": "dRbbmAPt-0cp"
      }
    },
    {
      "cell_type": "code",
      "source": [
        "dados_rating.isnull().sum()"
      ],
      "metadata": {
        "id": "iOPt23tX-zg8",
        "colab": {
          "base_uri": "https://localhost:8080/"
        },
        "outputId": "ed5bdb09-ae5d-4878-8be6-a7df1c68ed07"
      },
      "execution_count": 16,
      "outputs": [
        {
          "output_type": "execute_result",
          "data": {
            "text/plain": [
              "user_id     0\n",
              "anime_id    0\n",
              "rating      0\n",
              "dtype: int64"
            ]
          },
          "metadata": {},
          "execution_count": 16
        }
      ]
    },
    {
      "cell_type": "code",
      "source": [
        "dados_rating['rating'].fillna(7, inplace=True)"
      ],
      "metadata": {
        "id": "FnzIf8iFQA4f"
      },
      "execution_count": 17,
      "outputs": []
    },
    {
      "cell_type": "markdown",
      "source": [
        "# Preparando o dataset"
      ],
      "metadata": {
        "id": "aXtxfpbwA1RN"
      }
    },
    {
      "cell_type": "markdown",
      "source": [
        "Especificando o intervalo ou faixa de valores esperados em seu conjunto de dados. Isso é útil para informar ao Surprise qual é o intervalo de classificação dos seus dados."
      ],
      "metadata": {
        "id": "XU0ZJk5zBIVH"
      }
    },
    {
      "cell_type": "code",
      "source": [
        "reader = Reader(rating_scale=(-1, 10))\n",
        "dados = Dataset.load_from_df(dados_rating[['user_id', 'anime_id', 'rating']], reader)"
      ],
      "metadata": {
        "id": "pHtzmCrVA4ii"
      },
      "execution_count": 18,
      "outputs": []
    },
    {
      "cell_type": "markdown",
      "source": [
        "# Treinando o modelo"
      ],
      "metadata": {
        "id": "lfnR_naUB2Op"
      }
    },
    {
      "cell_type": "markdown",
      "source": [
        "# Ajuste fino\n",
        "Fica ai pra quem se interessar em fazer o ajuste fino dos parâmetros"
      ],
      "metadata": {
        "id": "_gbu6e9hcfQv"
      }
    },
    {
      "cell_type": "code",
      "source": [
        "# # Ajustando os parâmetros:\n",
        "\n",
        "# param_grid = {'lr_all': [.007, .01, 0.05, 0.001], 'reg_all': [0.02, 0.005]}\n",
        "# surprise_grid = surprise.model_selection.GridSearchCV(surprise.SVDpp, param_grid, measures=['rmse'], cv=3, n_jobs=-1)\n",
        "# surprise_grid.fit(dados)\n",
        "# print(surprise_grid.best_params['rmse'])"
      ],
      "metadata": {
        "id": "zeTCC88NWFpB"
      },
      "execution_count": 19,
      "outputs": []
    },
    {
      "cell_type": "code",
      "source": [
        "from surprise.model_selection import train_test_split\n",
        "\n",
        "# Dividindo os dados em treino e teste\n",
        "treino, teste = train_test_split(dados, test_size=0.2, random_state=5)  # 80% treino, 20% teste\n",
        "\n",
        "algoritmo = SVDpp(n_factors=20, random_state=5)\n",
        "\n",
        "# Treinando o modelo com o conjunto de treino\n",
        "algoritmo.fit(treino)"
      ],
      "metadata": {
        "id": "GgFuB3KJB0IH",
        "colab": {
          "base_uri": "https://localhost:8080/"
        },
        "outputId": "385fe62a-d3ed-4476-9e08-8bc2a3475d0b"
      },
      "execution_count": 20,
      "outputs": [
        {
          "output_type": "execute_result",
          "data": {
            "text/plain": [
              "<surprise.prediction_algorithms.matrix_factorization.SVDpp at 0x7af5a5f77d30>"
            ]
          },
          "metadata": {},
          "execution_count": 20
        }
      ]
    },
    {
      "cell_type": "markdown",
      "source": [
        "# Predições"
      ],
      "metadata": {
        "id": "Q-e-Jvu5USNT"
      }
    },
    {
      "cell_type": "code",
      "source": [
        "# Fazendo previsões com o conjunto de teste\n",
        "previsoes = algoritmo.test(teste)\n",
        "\n",
        "# Para visualizar as predições\n",
        "print(previsoes)\n",
        "# O erro na saída signifa que o notebook ultrapassou o limite de amostras para sáida"
      ],
      "metadata": {
        "id": "rhn1lQlGURLn",
        "colab": {
          "base_uri": "https://localhost:8080/"
        },
        "outputId": "855bb773-02fb-46de-c310-17814bd8f1a1"
      },
      "execution_count": 21,
      "outputs": [
        {
          "output_type": "stream",
          "name": "stderr",
          "text": [
            "IOPub data rate exceeded.\n",
            "The notebook server will temporarily stop sending output\n",
            "to the client in order to avoid crashing it.\n",
            "To change this limit, set the config variable\n",
            "`--NotebookApp.iopub_data_rate_limit`.\n",
            "\n",
            "Current values:\n",
            "NotebookApp.iopub_data_rate_limit=1000000.0 (bytes/sec)\n",
            "NotebookApp.rate_limit_window=3.0 (secs)\n",
            "\n"
          ]
        }
      ]
    },
    {
      "cell_type": "markdown",
      "source": [
        "# Encontrando os 10 animes parecidos"
      ],
      "metadata": {
        "id": "ZydX4vB7fdRS"
      }
    },
    {
      "cell_type": "code",
      "source": [
        "def melhores_recomendados(user_id, n=10):\n",
        "    \"\"\"\n",
        "    Retorna as recomendações de animes para um usuário específico.\n",
        "\n",
        "    Esta função recebe o ID de um usuário e retorna uma lista com as 'n' melhores recomendações de animes para esse usuário.\n",
        "\n",
        "    Args:\n",
        "        user_id (int): O ID do usuário para o qual deseja obter recomendações.\n",
        "        n (int): O número de recomendações a serem retornadas. O padrão é 10.\n",
        "\n",
        "    Returns:\n",
        "        list: Uma lista contendo as 'n' melhores recomendações de animes para o usuário, ordenadas por pontuação prevista.\n",
        "    \"\"\"\n",
        "\n",
        "    # Lista para armazenar todas as previsões do usuário\n",
        "    user_predictions = []\n",
        "\n",
        "    # Recuperando todos os animes que o usuário já avaliou\n",
        "    watched_animes = dados_rating[dados_rating['user_id'] == user_id]['anime_id'].tolist()\n",
        "\n",
        "    # Calculando a previsão de avaliação para cada anime que o usuário ainda não avaliou\n",
        "    for anime_id in dados_rating['anime_id'].unique():\n",
        "        if anime_id not in watched_animes:\n",
        "            predicted_rating = algoritmo.predict(user_id, anime_id).est\n",
        "            user_predictions.append((anime_id, predicted_rating))\n",
        "\n",
        "    # Classificando as previsões em ordem decrescente\n",
        "    user_predictions.sort(key=lambda x: x[1], reverse=True)\n",
        "\n",
        "    # Retorna a lista com as recomendações\n",
        "    return [anime_id for anime_id, _ in user_predictions[:n]]\n",
        "\n",
        "\n"
      ],
      "metadata": {
        "id": "MUmFcUv2fkhI"
      },
      "execution_count": 22,
      "outputs": []
    },
    {
      "cell_type": "code",
      "source": [
        "animes_recomendados_para_id = melhores_recomendados(200, n=10)\n",
        "titulos_correspondentes = []\n",
        "\n",
        "# Loop para encontrar os títulos correspondentes\n",
        "for id_anime in animes_recomendados_para_id:\n",
        "    titulo = anime.loc[anime['anime_id'] == id_anime, 'name'].values[0]\n",
        "    titulos_correspondentes.append((id_anime, titulo))\n",
        "\n",
        "for id_anime, titulo in titulos_correspondentes:\n",
        "    print(f\"{titulo}\")"
      ],
      "metadata": {
        "id": "gnyLqMtpVLro",
        "colab": {
          "base_uri": "https://localhost:8080/"
        },
        "outputId": "f760f62b-5bd4-482c-ae95-0002dc61f442"
      },
      "execution_count": 23,
      "outputs": [
        {
          "output_type": "stream",
          "name": "stdout",
          "text": [
            "School Rumble\n",
            "School Rumble Ni Gakki\n",
            "Tengen Toppa Gurren Lagann\n",
            "Kuroko no Basket\n",
            "Sakurasou no Pet na Kanojo\n",
            "Kami nomi zo Shiru Sekai: Megami-hen\n",
            "Hyouka\n",
            "Shaman King\n",
            "Slam Dunk\n",
            "Fullmetal Alchemist: The Conqueror of Shamballa\n"
          ]
        }
      ]
    },
    {
      "cell_type": "markdown",
      "source": [
        "# KNN\n",
        "\n",
        "O knn tem a função de encontrar os animes mais parecidos"
      ],
      "metadata": {
        "id": "MJtSZVE5TqZ4"
      }
    },
    {
      "cell_type": "code",
      "source": [
        "# Procurando os animes parecidos com pokemon\n",
        "anime['anime_id'].loc[anime['name'] == 'Pokemon']"
      ],
      "metadata": {
        "id": "eotBG5_2UGV6",
        "colab": {
          "base_uri": "https://localhost:8080/"
        },
        "outputId": "e41b48dd-7e41-421b-86a3-cda43bd7a979"
      },
      "execution_count": 24,
      "outputs": [
        {
          "output_type": "execute_result",
          "data": {
            "text/plain": [
              "1834    527\n",
              "Name: anime_id, dtype: int64"
            ]
          },
          "metadata": {},
          "execution_count": 24
        }
      ]
    },
    {
      "cell_type": "code",
      "source": [
        "# Treinando o modelo KNNBasic para similaridade de itens\n",
        "sim_options = {'name': 'cosine', 'user_based': False}  # compute similarities between items\n",
        "knn = KNNBasic(sim_options=sim_options)\n",
        "knn.fit(dados.build_full_trainset())\n",
        "\n",
        "def animes_similares(anime_id, n=10):\n",
        "    \"\"\"\n",
        "    Retorna os 'n' animes mais similares para um anime específico.\n",
        "\n",
        "    Args:\n",
        "        anime_id (int): O ID do anime para o qual deseja obter animes similares.\n",
        "        n (int): O número de animes similares a serem retornados. O padrão é 10.\n",
        "\n",
        "    Returns:\n",
        "        list: Uma lista contendo os 'n' animes mais similares.\n",
        "    \"\"\"\n",
        "\n",
        "\n",
        "    anime_inner_id = knn.trainset.to_inner_iid(anime_id)\n",
        "    neighbors = knn.get_neighbors(anime_inner_id, k=n)\n",
        "\n",
        "    neighbors_raw_ids = [knn.trainset.to_raw_iid(inner_id) for inner_id in neighbors]\n",
        "\n",
        "    return neighbors_raw_ids\n",
        "\n",
        "similar_animes_to_id = animes_similares(20, n=10)\n",
        "similar_anime_titles = []\n",
        "\n",
        "# Loop para encontrar os títulos correspondentes\n",
        "for sim_anime_id in similar_animes_to_id:\n",
        "    title = anime.loc[anime['anime_id'] == sim_anime_id, 'name'].values[0]\n",
        "    similar_anime_titles.append((sim_anime_id, title))\n",
        "\n",
        "for sim_anime_id, title in similar_anime_titles:\n",
        "    print(f\"{title}\")\n"
      ],
      "metadata": {
        "id": "t7fe6iHFTxQo",
        "colab": {
          "base_uri": "https://localhost:8080/"
        },
        "outputId": "beecbd4e-e524-468d-f5af-06466b513ca3"
      },
      "execution_count": 25,
      "outputs": [
        {
          "output_type": "stream",
          "name": "stdout",
          "text": [
            "Computing the cosine similarity matrix...\n",
            "Done computing similarity matrix.\n",
            "Mangchi\n",
            "Shinano Mainichi Shinbun\n",
            "Wake Up, Girls! Deai no Kiroku: A Brief Recording\n",
            "Persona 3 the Movie Meets “Walkman”\n",
            "Dennou Boukenki Webdiver\n",
            "Genki Bakuhatsu Ganbaruger\n",
            "Ganbare Goemon: Chikyuu Kyuushutsu Daisakusen\n",
            "Genki Bakuhatsu Ganbaruger: Hyakka\n",
            "Miss Monochrome: Watashi dake no Monogatari\n",
            "Shin Kyouhaku 2 The Animation: Kizu ni Saku Hana Senketsu no Kurenai\n"
          ]
        }
      ]
    },
    {
      "cell_type": "markdown",
      "source": [
        "# Resultado\n",
        "\n",
        "Só explicando como funciona o rmse ele diz sobre quanto o erro pode ter acontecido em relação ao real, exemplo:\n",
        "\n",
        "> Se o RMSE é 2.0965, isso significa que, em média, o erro entre a previsão e o valor real é de aproximadamente 2.0965. Em outras palavras, se o valor real é 7, a previsão poderia ser em média cerca de 9.0965 ou 4.9035."
      ],
      "metadata": {
        "id": "_5lGXKJsUNzX"
      }
    },
    {
      "cell_type": "code",
      "source": [
        "from surprise import accuracy\n",
        "accuracy.rmse(previsoes)"
      ],
      "metadata": {
        "id": "a-rTwY5SUPHq",
        "colab": {
          "base_uri": "https://localhost:8080/"
        },
        "outputId": "791b45bb-0e0d-4557-a7dd-21ed6a7d0652"
      },
      "execution_count": 26,
      "outputs": [
        {
          "output_type": "stream",
          "name": "stdout",
          "text": [
            "RMSE: 2.2057\n"
          ]
        },
        {
          "output_type": "execute_result",
          "data": {
            "text/plain": [
              "2.2057140444354544"
            ]
          },
          "metadata": {},
          "execution_count": 26
        }
      ]
    }
  ]
}